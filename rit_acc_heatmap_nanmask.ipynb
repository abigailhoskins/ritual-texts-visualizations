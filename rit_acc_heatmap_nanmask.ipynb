{
 "cells": [
  {
   "cell_type": "code",
   "execution_count": 1,
   "metadata": {
    "collapsed": false,
    "scrolled": false
   },
   "outputs": [
    {
     "name": "stdout",
     "output_type": "stream",
     "text": [
      "Requirement already up-to-date: pip in /anaconda/lib/python3.6/site-packages (19.0.3)\r\n"
     ]
    }
   ],
   "source": [
    "#install package manager\n",
    "!pip install --upgrade pip"
   ]
  },
  {
   "cell_type": "code",
   "execution_count": 2,
   "metadata": {
    "collapsed": true
   },
   "outputs": [],
   "source": [
    "#install error work-around\n",
    "import sys\n",
    "sys.path.append(\"/anaconda/lib/python3.6/site-packages\")"
   ]
  },
  {
   "cell_type": "code",
   "execution_count": 3,
   "metadata": {
    "collapsed": false
   },
   "outputs": [
    {
     "name": "stdout",
     "output_type": "stream",
     "text": [
      "\u001b[33mWarning:\u001b[0m graphviz 2.40.1 is already installed and up-to-date\n",
      "To reinstall 2.40.1, run `brew reinstall graphviz`\n",
      "//anaconda/lib/python3.6/site-packages/pip/_internal/commands/install.py:207: UserWarning: Disabling all use of wheels due to the use of --build-options / --global-options / --install-options.\n",
      "  cmdoptions.check_install_build_global(options)\n",
      "Requirement already satisfied: pygraphviz in /anaconda/lib/python3.6/site-packages (1.3.1)\n"
     ]
    }
   ],
   "source": [
    "#install graphviz\n",
    "!brew install graphviz\n",
    "!pip install pygraphviz --install-option=\"--include-path=/usr/local/include/graphviz/\" \\\n",
    "--install-option=\"--library-path=/usr/local/lib/graphviz\""
   ]
  },
  {
   "cell_type": "code",
   "execution_count": 4,
   "metadata": {
    "collapsed": false,
    "scrolled": true
   },
   "outputs": [],
   "source": [
    "#import data science library\n",
    "from datascience import *\n",
    "\n",
    "from IPython.display import Image\n",
    "from bokeh.charts import HeatMap, output_file, show\n",
    "from bokeh.palettes import *\n",
    "import pygraphviz as PG\n",
    "import numpy as np\n",
    "%matplotlib inline"
   ]
  },
  {
   "cell_type": "code",
   "execution_count": 8,
   "metadata": {
    "collapsed": false
   },
   "outputs": [
    {
     "data": {
      "text/html": [
       "<table border=\"1\" class=\"dataframe\">\n",
       "    <thead>\n",
       "        <tr>\n",
       "            <th>section</th> <th>object</th> <th>material</th> <th>decoration</th> <th>count</th> <th>number</th> <th>measure</th> <th>type of object</th> <th>position</th> <th>action</th> <th>occasion </th> <th>personnel</th> <th>deity</th> <th>time</th> <th>day</th> <th>month</th> <th>text</th> <th>additional</th>\n",
       "        </tr>\n",
       "    </thead>\n",
       "    <tbody>\n",
       "        <tr>\n",
       "            <td>1      </td> <td>great seat   </td> <td>nan     </td> <td>nan       </td> <td>1    </td> <td>1     </td> <td>nan    </td> <td>furniture     </td> <td>room between the curtains       </td> <td>sat upon by Adad                                         </td> <td>procession to temple    </td> <td>nan                                               </td> <td>Adad                                        </td> <td>nan </td> <td>9   </td> <td>Tashritu</td> <td>TU 40  </td> <td>nan       </td>\n",
       "        </tr>\n",
       "    </tbody>\n",
       "        <tr>\n",
       "            <td>2      </td> <td>garments     </td> <td>nan     </td> <td>nan       </td> <td>1    </td> <td>10    </td> <td>nan    </td> <td>garment       </td> <td>nan                             </td> <td>nan                                                      </td> <td>robing of the gods      </td> <td>nan                                               </td> <td>Adad                                        </td> <td>nan </td> <td>6   </td> <td>Tashritu</td> <td>TU 39  </td> <td>nan       </td>\n",
       "        </tr>\n",
       "    </tbody>\n",
       "        <tr>\n",
       "            <td>4      </td> <td>carrying pole</td> <td>gold    </td> <td>nan       </td> <td>1    </td> <td>10    </td> <td>nan    </td> <td>vehicle       </td> <td>cella of Anu in the akitu temple</td> <td>brought up to the cella                                  </td> <td>procession to the temple</td> <td>priest                                            </td> <td>Adad                                        </td> <td>nan </td> <td>nan </td> <td>Nisannu </td> <td>KAR 132</td> <td>nan       </td>\n",
       "        </tr>\n",
       "    </tbody>\n",
       "        <tr>\n",
       "            <td>1      </td> <td>curtain      </td> <td>linen   </td> <td>nan       </td> <td>1    </td> <td>1     </td> <td>nan    </td> <td>furniture     </td> <td>nan                             </td> <td>process to Grand Courtyard                               </td> <td>procession to the temple</td> <td>king; exorcists; lamentation priests; naru singers</td> <td>Antu                                        </td> <td>nan </td> <td>nan </td> <td>Nisannu </td> <td>KAR 132</td> <td>nan       </td>\n",
       "        </tr>\n",
       "    </tbody>\n",
       "        <tr>\n",
       "            <td>1      </td> <td>libation bowl</td> <td>gold    </td> <td>nan       </td> <td>1    </td> <td>1     </td> <td>nan    </td> <td>vessel        </td> <td>nan                             </td> <td>process to Grand Courtyard                               </td> <td>procession to the temple</td> <td>king; exorcists; lamentation priests; naru singers</td> <td>Antu                                        </td> <td>nan </td> <td>nan </td> <td>Nisannu </td> <td>KAR 132</td> <td>nan       </td>\n",
       "        </tr>\n",
       "    </tbody>\n",
       "        <tr>\n",
       "            <td>1      </td> <td>seat         </td> <td>gold    </td> <td>nan       </td> <td>1    </td> <td>1     </td> <td>nan    </td> <td>furniture     </td> <td>Grand Courtyard                 </td> <td>nan                                                      </td> <td>procession to the temple</td> <td>nan                                               </td> <td>Antu                                        </td> <td>nan </td> <td>nan </td> <td>Nisannu </td> <td>KAR 132</td> <td>nan       </td>\n",
       "        </tr>\n",
       "    </tbody>\n",
       "        <tr>\n",
       "            <td>3      </td> <td>quiver       </td> <td>gold    </td> <td>nan       </td> <td>1    </td> <td>10    </td> <td>nan    </td> <td>symbol        </td> <td>nan                             </td> <td>nan                                                      </td> <td>procession to the temple</td> <td>nan                                               </td> <td>Antu                                        </td> <td>nan </td> <td>nan </td> <td>Nisannu </td> <td>KAR 132</td> <td>nan       </td>\n",
       "        </tr>\n",
       "    </tbody>\n",
       "        <tr>\n",
       "            <td>4      </td> <td>carrying pole</td> <td>gold    </td> <td>nan       </td> <td>1    </td> <td>10    </td> <td>nan    </td> <td>vehicle       </td> <td>cella of Anu in the akitu temple</td> <td>brought up to the cella                                  </td> <td>procession to the temple</td> <td>priest                                            </td> <td>Antu                                        </td> <td>nan </td> <td>nan </td> <td>Nisannu </td> <td>KAR 132</td> <td>nan       </td>\n",
       "        </tr>\n",
       "    </tbody>\n",
       "        <tr>\n",
       "            <td>1      </td> <td>dish         </td> <td>gold    </td> <td>nan       </td> <td>1    </td> <td>1     </td> <td>nan    </td> <td>vessel        </td> <td>Grand Courtyard                 </td> <td>pass before Antu and the other goddesses in the courtyard</td> <td>procession to the temple</td> <td>unclear                                           </td> <td>Antu; other goddesses in the Grand Courtyard</td> <td>nan </td> <td>nan </td> <td>Nisannu </td> <td>KAR 132</td> <td>nan       </td>\n",
       "        </tr>\n",
       "    </tbody>\n",
       "        <tr>\n",
       "            <td>1      </td> <td>chariot      </td> <td>gold    </td> <td>nan       </td> <td>1    </td> <td>1     </td> <td>nan    </td> <td>vehicle       </td> <td>akitu temple                    </td> <td>nan                                                      </td> <td>tardennu morning        </td> <td>singer                                            </td> <td>Anu                                         </td> <td>nan </td> <td>1   </td> <td>Tashritu</td> <td>TU 39  </td> <td>nan       </td>\n",
       "        </tr>\n",
       "    </tbody>\n",
       "</table>\n",
       "<p>... (146 rows omitted)</p"
      ],
      "text/plain": [
       "section | object        | material | decoration | count | number | measure | type of object | position                         | action                                                    | occasion                 | personnel                                          | deity                                        | time | day  | month    | text    | additional\n",
       "1       | great seat    | nan      | nan        | 1     | 1      | nan     | furniture      | room between the curtains        | sat upon by Adad                                          | procession to temple     | nan                                                | Adad                                         | nan  | 9    | Tashritu | TU 40   | nan\n",
       "2       | garments      | nan      | nan        | 1     | 10     | nan     | garment        | nan                              | nan                                                       | robing of the gods       | nan                                                | Adad                                         | nan  | 6    | Tashritu | TU 39   | nan\n",
       "4       | carrying pole | gold     | nan        | 1     | 10     | nan     | vehicle        | cella of Anu in the akitu temple | brought up to the cella                                   | procession to the temple | priest                                             | Adad                                         | nan  | nan  | Nisannu  | KAR 132 | nan\n",
       "1       | curtain       | linen    | nan        | 1     | 1      | nan     | furniture      | nan                              | process to Grand Courtyard                                | procession to the temple | king; exorcists; lamentation priests; naru singers | Antu                                         | nan  | nan  | Nisannu  | KAR 132 | nan\n",
       "1       | libation bowl | gold     | nan        | 1     | 1      | nan     | vessel         | nan                              | process to Grand Courtyard                                | procession to the temple | king; exorcists; lamentation priests; naru singers | Antu                                         | nan  | nan  | Nisannu  | KAR 132 | nan\n",
       "1       | seat          | gold     | nan        | 1     | 1      | nan     | furniture      | Grand Courtyard                  | nan                                                       | procession to the temple | nan                                                | Antu                                         | nan  | nan  | Nisannu  | KAR 132 | nan\n",
       "3       | quiver        | gold     | nan        | 1     | 10     | nan     | symbol         | nan                              | nan                                                       | procession to the temple | nan                                                | Antu                                         | nan  | nan  | Nisannu  | KAR 132 | nan\n",
       "4       | carrying pole | gold     | nan        | 1     | 10     | nan     | vehicle        | cella of Anu in the akitu temple | brought up to the cella                                   | procession to the temple | priest                                             | Antu                                         | nan  | nan  | Nisannu  | KAR 132 | nan\n",
       "1       | dish          | gold     | nan        | 1     | 1      | nan     | vessel         | Grand Courtyard                  | pass before Antu and the other goddesses in the courtyard | procession to the temple | unclear                                            | Antu; other goddesses in the Grand Courtyard | nan  | nan  | Nisannu  | KAR 132 | nan\n",
       "1       | chariot       | gold     | nan        | 1     | 1      | nan     | vehicle        | akitu temple                     | nan                                                       | tardennu morning         | singer                                             | Anu                                          | nan  | 1    | Tashritu | TU 39   | nan\n",
       "... (146 rows omitted)"
      ]
     },
     "execution_count": 8,
     "metadata": {},
     "output_type": "execute_result"
    }
   ],
   "source": [
    "#read in table\n",
    "ritacc = Table().read_table('ritacc_master.csv')\n",
    "#Replaces value \"plural, unspecified\" with a value of 10\n",
    "def replace_plural(table, value, column):\n",
    "    for i in range(len(table[column])):\n",
    "        if table[column][i] == 'plural, unspecified':\n",
    "            table[column][i] = value\n",
    "        else:\n",
    "            table[column][i] = int(table[column][i])\n",
    "    return table\n",
    "ritacc = replace_plural(ritacc, 10, 5)\n",
    "\n",
    "#converts 'number' column from a string to an integer\n",
    "ritacc.set_format('number', NumberFormatter)\n",
    "\n",
    "#removes rows where no god is specified\n",
    "ritacc = ritacc.where('deity', are.not_containing('nan'))\n",
    "\n",
    "#print table\n",
    "ritacc"
   ]
  },
  {
   "cell_type": "code",
   "execution_count": 13,
   "metadata": {
    "collapsed": false
   },
   "outputs": [],
   "source": [
    "#create pivot table. \"Group\" is a function that returns a table with each row corresponding to a unique value.\n",
    "#lamda x: sum(x) takes the summed values of number x count.\n",
    "\n",
    "groupedob = ritacc.group(['deity', 'object'], lambda x: sum(x))\n",
    "\n",
    "#selects columns to be mapped\n",
    "groupedob = groupedob.select('deity', 'object', 'number')\n",
    "\n",
    "groupedob.sort(\"number\")\n",
    "\n",
    "#makes groupedob a panda dataframe\n",
    "groupedob = groupedob.to_df()\n"
   ]
  },
  {
   "cell_type": "code",
   "execution_count": 21,
   "metadata": {
    "collapsed": false,
    "scrolled": true
   },
   "outputs": [
    {
     "name": "stderr",
     "output_type": "stream",
     "text": [
      "INFO:bokeh.core.state:Session output file 'ritacc_heatmap_master_nanmasked.html' already exists, will be overwritten.\n"
     ]
    }
   ],
   "source": [
    "#create heat map\n",
    "\n",
    "hm = HeatMap(groupedob, x='object', y='deity', values='number', title='Object and Deity', stat=None, width=2000, height=2000, \n",
    "             palette=viridis(32))\n",
    "                                                    \n",
    "output_file('ritacc_heatmap_master_nanmasked.html')\n",
    "\n",
    "show(hm)"
   ]
  },
  {
   "cell_type": "code",
   "execution_count": null,
   "metadata": {
    "collapsed": true
   },
   "outputs": [],
   "source": []
  }
 ],
 "metadata": {
  "kernelspec": {
   "display_name": "Python 3",
   "language": "python",
   "name": "python3"
  },
  "language_info": {
   "codemirror_mode": {
    "name": "ipython",
    "version": 3
   },
   "file_extension": ".py",
   "mimetype": "text/x-python",
   "name": "python",
   "nbconvert_exporter": "python",
   "pygments_lexer": "ipython3",
   "version": "3.6.0"
  }
 },
 "nbformat": 4,
 "nbformat_minor": 2
}
