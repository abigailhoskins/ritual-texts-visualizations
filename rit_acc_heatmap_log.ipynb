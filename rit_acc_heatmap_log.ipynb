{
 "cells": [
  {
   "cell_type": "code",
   "execution_count": 1,
   "metadata": {
    "collapsed": false,
    "scrolled": false
   },
   "outputs": [
    {
     "name": "stdout",
     "output_type": "stream",
     "text": [
      "Collecting pip\n",
      "  Using cached https://files.pythonhosted.org/packages/5c/e0/be401c003291b56efc55aeba6a80ab790d3d4cece2778288d65323009420/pip-19.1.1-py2.py3-none-any.whl\n",
      "Installing collected packages: pip\n",
      "  Found existing installation: pip 19.0.3\n",
      "    Uninstalling pip-19.0.3:\n",
      "      Successfully uninstalled pip-19.0.3\n",
      "Successfully installed pip-19.1.1\n"
     ]
    }
   ],
   "source": [
    "#install package manager\n",
    "!pip install --upgrade pip"
   ]
  },
  {
   "cell_type": "code",
   "execution_count": 5,
   "metadata": {
    "collapsed": true
   },
   "outputs": [],
   "source": [
    "#install error work-around\n",
    "import sys\n",
    "sys.path.append(\"/anaconda/lib/python3.7/site-packages\")"
   ]
  },
  {
   "cell_type": "code",
   "execution_count": 12,
   "metadata": {
    "collapsed": false,
    "scrolled": true
   },
   "outputs": [
    {
     "name": "stdout",
     "output_type": "stream",
     "text": [
      "/System/Library/Frameworks/Ruby.framework/Versions/2.0/usr/lib/ruby/2.0.0/rubygems/core_ext/kernel_require.rb:55:in `require': cannot load such file -- mach (LoadError)\n",
      "\tfrom /System/Library/Frameworks/Ruby.framework/Versions/2.0/usr/lib/ruby/2.0.0/rubygems/core_ext/kernel_require.rb:55:in `require'\n",
      "\tfrom /usr/local/Library/Homebrew/extend/pathname.rb:2:in `<top (required)>'\n",
      "\tfrom /System/Library/Frameworks/Ruby.framework/Versions/2.0/usr/lib/ruby/2.0.0/rubygems/core_ext/kernel_require.rb:55:in `require'\n",
      "\tfrom /System/Library/Frameworks/Ruby.framework/Versions/2.0/usr/lib/ruby/2.0.0/rubygems/core_ext/kernel_require.rb:55:in `require'\n",
      "\tfrom /usr/local/Library/Homebrew/global.rb:3:in `<top (required)>'\n",
      "\tfrom /System/Library/Frameworks/Ruby.framework/Versions/2.0/usr/lib/ruby/2.0.0/rubygems/core_ext/kernel_require.rb:55:in `require'\n",
      "\tfrom /System/Library/Frameworks/Ruby.framework/Versions/2.0/usr/lib/ruby/2.0.0/rubygems/core_ext/kernel_require.rb:55:in `require'\n",
      "\tfrom /usr/local/Library/brew.rb:15:in `<main>'\n",
      "/anaconda3/lib/python3.7/site-packages/pip/_internal/commands/install.py:244: UserWarning: Disabling all use of wheels due to the use of --build-options / --global-options / --install-options.\n",
      "  cmdoptions.check_install_build_global(options)\n",
      "Collecting pygraphviz\n",
      "  Using cached https://files.pythonhosted.org/packages/7e/b1/d6d849ddaf6f11036f9980d433f383d4c13d1ebcfc3cd09bc845bda7e433/pygraphviz-1.5.zip\n",
      "Skipping bdist_wheel for pygraphviz, due to binaries being disabled for it.\n",
      "Installing collected packages: pygraphviz\n",
      "  Running setup.py install for pygraphviz ... \u001b[?25lerror\n",
      "\u001b[31m    ERROR: Complete output from command /anaconda3/bin/python -u -c 'import setuptools, tokenize;__file__='\"'\"'/private/var/folders/bz/bldzl4jn77n_ct5y2jw6p5kr0000gp/T/pip-install-aqv9v3b2/pygraphviz/setup.py'\"'\"';f=getattr(tokenize, '\"'\"'open'\"'\"', open)(__file__);code=f.read().replace('\"'\"'\\r\\n'\"'\"', '\"'\"'\\n'\"'\"');f.close();exec(compile(code, __file__, '\"'\"'exec'\"'\"'))' install --record /private/var/folders/bz/bldzl4jn77n_ct5y2jw6p5kr0000gp/T/pip-record-21smv69z/install-record.txt --single-version-externally-managed --compile --include-path=/usr/local/include/graphviz/ --library-path=/usr/local/lib/graphviz:\u001b[0m\n",
      "\u001b[31m    ERROR: running install\n",
      "    running build\n",
      "    running build_py\n",
      "    creating build\n",
      "    creating build/lib.macosx-10.7-x86_64-3.7\n",
      "    creating build/lib.macosx-10.7-x86_64-3.7/pygraphviz\n",
      "    copying pygraphviz/__init__.py -> build/lib.macosx-10.7-x86_64-3.7/pygraphviz\n",
      "    copying pygraphviz/agraph.py -> build/lib.macosx-10.7-x86_64-3.7/pygraphviz\n",
      "    copying pygraphviz/graphviz.py -> build/lib.macosx-10.7-x86_64-3.7/pygraphviz\n",
      "    copying pygraphviz/release.py -> build/lib.macosx-10.7-x86_64-3.7/pygraphviz\n",
      "    copying pygraphviz/version.py -> build/lib.macosx-10.7-x86_64-3.7/pygraphviz\n",
      "    creating build/lib.macosx-10.7-x86_64-3.7/pygraphviz/tests\n",
      "    copying pygraphviz/tests/__init__.py -> build/lib.macosx-10.7-x86_64-3.7/pygraphviz/tests\n",
      "    copying pygraphviz/tests/test.py -> build/lib.macosx-10.7-x86_64-3.7/pygraphviz/tests\n",
      "    copying pygraphviz/tests/test_attribute_defaults.py -> build/lib.macosx-10.7-x86_64-3.7/pygraphviz/tests\n",
      "    copying pygraphviz/tests/test_attributes.py -> build/lib.macosx-10.7-x86_64-3.7/pygraphviz/tests\n",
      "    copying pygraphviz/tests/test_clear.py -> build/lib.macosx-10.7-x86_64-3.7/pygraphviz/tests\n",
      "    copying pygraphviz/tests/test_drawing.py -> build/lib.macosx-10.7-x86_64-3.7/pygraphviz/tests\n",
      "    copying pygraphviz/tests/test_edge_attributes.py -> build/lib.macosx-10.7-x86_64-3.7/pygraphviz/tests\n",
      "    copying pygraphviz/tests/test_graph.py -> build/lib.macosx-10.7-x86_64-3.7/pygraphviz/tests\n",
      "    copying pygraphviz/tests/test_html.py -> build/lib.macosx-10.7-x86_64-3.7/pygraphviz/tests\n",
      "    copying pygraphviz/tests/test_layout.py -> build/lib.macosx-10.7-x86_64-3.7/pygraphviz/tests\n",
      "    copying pygraphviz/tests/test_node_attributes.py -> build/lib.macosx-10.7-x86_64-3.7/pygraphviz/tests\n",
      "    copying pygraphviz/tests/test_readwrite.py -> build/lib.macosx-10.7-x86_64-3.7/pygraphviz/tests\n",
      "    copying pygraphviz/tests/test_setup.py -> build/lib.macosx-10.7-x86_64-3.7/pygraphviz/tests\n",
      "    copying pygraphviz/tests/test_string.py -> build/lib.macosx-10.7-x86_64-3.7/pygraphviz/tests\n",
      "    copying pygraphviz/tests/test_subgraph.py -> build/lib.macosx-10.7-x86_64-3.7/pygraphviz/tests\n",
      "    copying pygraphviz/tests/test_unicode.py -> build/lib.macosx-10.7-x86_64-3.7/pygraphviz/tests\n",
      "    running egg_info\n",
      "    writing pygraphviz.egg-info/PKG-INFO\n",
      "    writing dependency_links to pygraphviz.egg-info/dependency_links.txt\n",
      "    writing top-level names to pygraphviz.egg-info/top_level.txt\n",
      "    reading manifest file 'pygraphviz.egg-info/SOURCES.txt'\n",
      "    reading manifest template 'MANIFEST.in'\n",
      "    warning: no files found matching '*.png' under directory 'doc'\n",
      "    warning: no files found matching '*.html' under directory 'doc'\n",
      "    warning: no files found matching '*.txt' under directory 'doc'\n",
      "    warning: no files found matching '*.css' under directory 'doc'\n",
      "    warning: no previously-included files matching '*~' found anywhere in distribution\n",
      "    warning: no previously-included files matching '*.pyc' found anywhere in distribution\n",
      "    warning: no previously-included files matching '.svn' found anywhere in distribution\n",
      "    no previously-included directories found matching 'doc/build'\n",
      "    writing manifest file 'pygraphviz.egg-info/SOURCES.txt'\n",
      "    copying pygraphviz/graphviz.i -> build/lib.macosx-10.7-x86_64-3.7/pygraphviz\n",
      "    copying pygraphviz/graphviz_wrap.c -> build/lib.macosx-10.7-x86_64-3.7/pygraphviz\n",
      "    running build_ext\n",
      "    building 'pygraphviz._graphviz' extension\n",
      "    creating build/temp.macosx-10.7-x86_64-3.7\n",
      "    creating build/temp.macosx-10.7-x86_64-3.7/pygraphviz\n",
      "    gcc -Wno-unused-result -Wsign-compare -Wunreachable-code -DNDEBUG -g -fwrapv -O3 -Wall -Wstrict-prototypes -I/anaconda3/include -arch x86_64 -I/anaconda3/include -arch x86_64 -I/usr/local/include/graphviz/ -I/anaconda3/include/python3.7m -c pygraphviz/graphviz_wrap.c -o build/temp.macosx-10.7-x86_64-3.7/pygraphviz/graphviz_wrap.o\n",
      "    pygraphviz/graphviz_wrap.c:2987:10: fatal error: 'graphviz/cgraph.h' file not found\n",
      "    #include \"graphviz/cgraph.h\"\n",
      "             ^\n",
      "    1 error generated.\n",
      "    error: command 'gcc' failed with exit status 1\n",
      "    ----------------------------------------\u001b[0m\n",
      "\u001b[31mERROR: Command \"/anaconda3/bin/python -u -c 'import setuptools, tokenize;__file__='\"'\"'/private/var/folders/bz/bldzl4jn77n_ct5y2jw6p5kr0000gp/T/pip-install-aqv9v3b2/pygraphviz/setup.py'\"'\"';f=getattr(tokenize, '\"'\"'open'\"'\"', open)(__file__);code=f.read().replace('\"'\"'\\r\\n'\"'\"', '\"'\"'\\n'\"'\"');f.close();exec(compile(code, __file__, '\"'\"'exec'\"'\"'))' install --record /private/var/folders/bz/bldzl4jn77n_ct5y2jw6p5kr0000gp/T/pip-record-21smv69z/install-record.txt --single-version-externally-managed --compile --include-path=/usr/local/include/graphviz/ --library-path=/usr/local/lib/graphviz\" failed with error code 1 in /private/var/folders/bz/bldzl4jn77n_ct5y2jw6p5kr0000gp/T/pip-install-aqv9v3b2/pygraphviz/\u001b[0m\n",
      "\u001b[?25h"
     ]
    }
   ],
   "source": [
    "#install graphviz\n",
    "!brew install graphviz\n",
    "!pip install pygraphviz --install-option=\"--include-path=/usr/local/include/graphviz/\" \\\n",
    "--install-option=\"--library-path=/usr/local/lib/graphviz\""
   ]
  },
  {
   "cell_type": "code",
   "execution_count": 9,
   "metadata": {
    "collapsed": false,
    "scrolled": true
   },
   "outputs": [
    {
     "ename": "ModuleNotFoundError",
     "evalue": "No module named 'datascience'",
     "output_type": "error",
     "traceback": [
      "\u001b[0;31m---------------------------------------------------------------------------\u001b[0m",
      "\u001b[0;31mModuleNotFoundError\u001b[0m                       Traceback (most recent call last)",
      "\u001b[0;32m<ipython-input-9-0dda97934808>\u001b[0m in \u001b[0;36m<module>\u001b[0;34m\u001b[0m\n\u001b[1;32m      1\u001b[0m \u001b[0;31m#import data science library\u001b[0m\u001b[0;34m\u001b[0m\u001b[0;34m\u001b[0m\u001b[0;34m\u001b[0m\u001b[0m\n\u001b[0;32m----> 2\u001b[0;31m \u001b[0;32mfrom\u001b[0m \u001b[0mdatascience\u001b[0m \u001b[0;32mimport\u001b[0m \u001b[0;34m*\u001b[0m\u001b[0;34m\u001b[0m\u001b[0;34m\u001b[0m\u001b[0m\n\u001b[0m\u001b[1;32m      3\u001b[0m \u001b[0;32mfrom\u001b[0m \u001b[0mIPython\u001b[0m\u001b[0;34m.\u001b[0m\u001b[0mdisplay\u001b[0m \u001b[0;32mimport\u001b[0m \u001b[0mImage\u001b[0m\u001b[0;34m\u001b[0m\u001b[0;34m\u001b[0m\u001b[0m\n\u001b[1;32m      4\u001b[0m \u001b[0;32mfrom\u001b[0m \u001b[0mbokeh\u001b[0m\u001b[0;34m.\u001b[0m\u001b[0mcharts\u001b[0m \u001b[0;32mimport\u001b[0m \u001b[0mHeatMap\u001b[0m\u001b[0;34m,\u001b[0m \u001b[0moutput_file\u001b[0m\u001b[0;34m,\u001b[0m \u001b[0mshow\u001b[0m\u001b[0;34m\u001b[0m\u001b[0;34m\u001b[0m\u001b[0m\n\u001b[1;32m      5\u001b[0m \u001b[0;32mfrom\u001b[0m \u001b[0mbokeh\u001b[0m\u001b[0;34m.\u001b[0m\u001b[0mpalettes\u001b[0m \u001b[0;32mimport\u001b[0m \u001b[0;34m*\u001b[0m\u001b[0;34m\u001b[0m\u001b[0;34m\u001b[0m\u001b[0m\n",
      "\u001b[0;31mModuleNotFoundError\u001b[0m: No module named 'datascience'"
     ]
    }
   ],
   "source": [
    "#import data science library\n",
    "from datascience import *\n",
    "from IPython.display import Image\n",
    "from bokeh.charts import HeatMap, output_file, show\n",
    "from bokeh.palettes import *\n",
    "import pygraphviz as PG\n",
    "import numpy as np\n",
    "%matplotlib inline"
   ]
  },
  {
   "cell_type": "code",
   "execution_count": 37,
   "metadata": {
    "collapsed": false
   },
   "outputs": [
    {
     "data": {
      "text/html": [
       "<table border=\"1\" class=\"dataframe\">\n",
       "    <thead>\n",
       "        <tr>\n",
       "            <th>section</th> <th>object</th> <th>material</th> <th>decoration</th> <th>count</th> <th>number</th> <th>measure</th> <th>type of object</th> <th>position</th> <th>action</th> <th>occasion </th> <th>personnel</th> <th>deity</th> <th>time</th> <th>day</th> <th>month</th> <th>text</th> <th>additional</th>\n",
       "        </tr>\n",
       "    </thead>\n",
       "    <tbody>\n",
       "        <tr>\n",
       "            <td>1      </td> <td>garments        </td> <td>nan     </td> <td>nan       </td> <td>1    </td> <td>10    </td> <td>nan    </td> <td>garment       </td> <td>nan         </td> <td>robe Enlil                        </td> <td>robing of the gods      </td> <td>priest   </td> <td>Enlil                  </td> <td>nan                     </td> <td>1   </td> <td>Tashritu</td> <td>TU 39</td> <td>nan       </td>\n",
       "        </tr>\n",
       "    </tbody>\n",
       "        <tr>\n",
       "            <td>1      </td> <td>garments        </td> <td>nan     </td> <td>nan       </td> <td>1    </td> <td>10    </td> <td>nan    </td> <td>garment       </td> <td>nan         </td> <td>robe Ea                           </td> <td>robing of the gods      </td> <td>priest   </td> <td>Ea                     </td> <td>nan                     </td> <td>1   </td> <td>Tashritu</td> <td>TU 39</td> <td>nan       </td>\n",
       "        </tr>\n",
       "    </tbody>\n",
       "        <tr>\n",
       "            <td>1      </td> <td>garments        </td> <td>nan     </td> <td>nan       </td> <td>1    </td> <td>10    </td> <td>nan    </td> <td>garment       </td> <td>nan         </td> <td>robe the other gods of Uruk       </td> <td>robing of the gods      </td> <td>priest   </td> <td>the other gods of Uruk </td> <td>nan                     </td> <td>1   </td> <td>Tashritu</td> <td>TU 39</td> <td>nan       </td>\n",
       "        </tr>\n",
       "    </tbody>\n",
       "        <tr>\n",
       "            <td>1      </td> <td>chariot         </td> <td>gold    </td> <td>nan       </td> <td>1    </td> <td>1     </td> <td>nan    </td> <td>vehicle       </td> <td>akitu temple</td> <td>process to the akitu temple of Anu</td> <td>procession to the temple</td> <td>singer   </td> <td>Anu                    </td> <td>tardennu morning meal   </td> <td>1   </td> <td>Tashritu</td> <td>TU 39</td> <td>nan       </td>\n",
       "        </tr>\n",
       "    </tbody>\n",
       "        <tr>\n",
       "            <td>1      </td> <td>chariot         </td> <td>silver  </td> <td>nan       </td> <td>1    </td> <td>1     </td> <td>nan    </td> <td>vehicle       </td> <td>akitu temple</td> <td>process to the akitu temple of Anu</td> <td>procession to the temple</td> <td>singer   </td> <td>Anu                    </td> <td>tardennu morning meal   </td> <td>1   </td> <td>Tashritu</td> <td>TU 39</td> <td>nan       </td>\n",
       "        </tr>\n",
       "    </tbody>\n",
       "        <tr>\n",
       "            <td>2      </td> <td>garments        </td> <td>nan     </td> <td>nan       </td> <td>1    </td> <td>10    </td> <td>nan    </td> <td>garment       </td> <td>nan         </td> <td>robe Adad                         </td> <td>robing of the gods      </td> <td>priest   </td> <td>Adad                   </td> <td>nan                     </td> <td>6   </td> <td>Tashritu</td> <td>TU 39</td> <td>nan       </td>\n",
       "        </tr>\n",
       "    </tbody>\n",
       "        <tr>\n",
       "            <td>2      </td> <td>garments        </td> <td>nan     </td> <td>nan       </td> <td>1    </td> <td>10    </td> <td>nan    </td> <td>garment       </td> <td>nan         </td> <td>robe Shamash                      </td> <td>robing of the gods      </td> <td>priest   </td> <td>Shamash                </td> <td>nan                     </td> <td>6   </td> <td>Tashritu</td> <td>TU 39</td> <td>nan       </td>\n",
       "        </tr>\n",
       "    </tbody>\n",
       "        <tr>\n",
       "            <td>2      </td> <td>garments        </td> <td>nan     </td> <td>nan       </td> <td>1    </td> <td>10    </td> <td>nan    </td> <td>garment       </td> <td>nan         </td> <td>robe Lugalbanda                   </td> <td>robing of the gods      </td> <td>priest   </td> <td>Lugalbanda             </td> <td>nan                     </td> <td>6   </td> <td>Tashritu</td> <td>TU 39</td> <td>nan       </td>\n",
       "        </tr>\n",
       "    </tbody>\n",
       "        <tr>\n",
       "            <td>2      </td> <td>garments        </td> <td>nan     </td> <td>nan       </td> <td>1    </td> <td>10    </td> <td>nan    </td> <td>garment       </td> <td>nan         </td> <td>robe Ninsun                       </td> <td>robing of the gods      </td> <td>priest   </td> <td>Ninsun                 </td> <td>nan                     </td> <td>6   </td> <td>Tashritu</td> <td>TU 39</td> <td>nan       </td>\n",
       "        </tr>\n",
       "    </tbody>\n",
       "        <tr>\n",
       "            <td>2      </td> <td>holy water basin</td> <td>nan     </td> <td>nan       </td> <td>1    </td> <td>1     </td> <td>nan    </td> <td>vessel        </td> <td>nan         </td> <td>set up                            </td> <td>washing of the hands    </td> <td>priest   </td> <td>nan                    </td> <td>first watch of the night</td> <td>6   </td> <td>Tashritu</td> <td>TU 39</td> <td>nan       </td>\n",
       "        </tr>\n",
       "    </tbody>\n",
       "</table>\n",
       "<p>... (119 rows omitted)</p"
      ],
      "text/plain": [
       "section | object           | material | decoration | count | number | measure | type of object | position     | action                             | occasion                 | personnel | deity                   | time                     | day  | month    | text  | additional\n",
       "1       | garments         | nan      | nan        | 1     | 10     | nan     | garment        | nan          | robe Enlil                         | robing of the gods       | priest    | Enlil                   | nan                      | 1    | Tashritu | TU 39 | nan\n",
       "1       | garments         | nan      | nan        | 1     | 10     | nan     | garment        | nan          | robe Ea                            | robing of the gods       | priest    | Ea                      | nan                      | 1    | Tashritu | TU 39 | nan\n",
       "1       | garments         | nan      | nan        | 1     | 10     | nan     | garment        | nan          | robe the other gods of Uruk        | robing of the gods       | priest    | the other gods of Uruk  | nan                      | 1    | Tashritu | TU 39 | nan\n",
       "1       | chariot          | gold     | nan        | 1     | 1      | nan     | vehicle        | akitu temple | process to the akitu temple of Anu | procession to the temple | singer    | Anu                     | tardennu morning meal    | 1    | Tashritu | TU 39 | nan\n",
       "1       | chariot          | silver   | nan        | 1     | 1      | nan     | vehicle        | akitu temple | process to the akitu temple of Anu | procession to the temple | singer    | Anu                     | tardennu morning meal    | 1    | Tashritu | TU 39 | nan\n",
       "2       | garments         | nan      | nan        | 1     | 10     | nan     | garment        | nan          | robe Adad                          | robing of the gods       | priest    | Adad                    | nan                      | 6    | Tashritu | TU 39 | nan\n",
       "2       | garments         | nan      | nan        | 1     | 10     | nan     | garment        | nan          | robe Shamash                       | robing of the gods       | priest    | Shamash                 | nan                      | 6    | Tashritu | TU 39 | nan\n",
       "2       | garments         | nan      | nan        | 1     | 10     | nan     | garment        | nan          | robe Lugalbanda                    | robing of the gods       | priest    | Lugalbanda              | nan                      | 6    | Tashritu | TU 39 | nan\n",
       "2       | garments         | nan      | nan        | 1     | 10     | nan     | garment        | nan          | robe Ninsun                        | robing of the gods       | priest    | Ninsun                  | nan                      | 6    | Tashritu | TU 39 | nan\n",
       "2       | holy water basin | nan      | nan        | 1     | 1      | nan     | vessel         | nan          | set up                             | washing of the hands     | priest    | nan                     | first watch of the night | 6    | Tashritu | TU 39 | nan\n",
       "... (119 rows omitted)"
      ]
     },
     "execution_count": 37,
     "metadata": {},
     "output_type": "execute_result"
    }
   ],
   "source": [
    "#read in table\n",
    "ritacc = Table().read_table('ritaccNewYears.csv')\n",
    "#Replaces value \"plural, unspecified\" with a value of 10\n",
    "def replace_plural(table, value, column):\n",
    "    for i in range(len(table[column])):\n",
    "        if table[column][i] == 'plural, unspecified':\n",
    "            table[column][i] = value\n",
    "        else:\n",
    "            table[column][i] = int(table[column][i])\n",
    "    return table\n",
    "ritacc = replace_plural(ritacc, 10, 5)\n",
    "\n",
    "#converts 'number' column from a string to an integer\n",
    "ritacc.set_format('number', NumberFormatter)\n",
    "\n",
    "#print table\n",
    "ritacc"
   ]
  },
  {
   "cell_type": "code",
   "execution_count": 41,
   "metadata": {
    "collapsed": true
   },
   "outputs": [],
   "source": [
    "#create pivot table. \"Group\" is a function that returns a table with each row corresponding to a unique value.\n",
    "#lamda x: np.log(sum(x)) takes the logarithm of the summed values of number x count.\n",
    "#This prevents outliers (like, for example, the 300 bagurru scoops) from overshadowing\n",
    "#the rest of the data. \n",
    "groupedob = ritacc.group(['object', 'action'], lambda x: np.log(sum(x)))\n",
    "\n",
    "#selects columns to be mapped\n",
    "groupedob = groupedob.select('object', 'action', 'number')\n",
    "\n",
    "groupedob.sort(\"number\")\n",
    "\n",
    "#makes groupedob a panda dataframe\n",
    "groupedob = groupedob.to_df()\n"
   ]
  },
  {
   "cell_type": "code",
   "execution_count": 43,
   "metadata": {
    "collapsed": false,
    "scrolled": true
   },
   "outputs": [
    {
     "name": "stderr",
     "output_type": "stream",
     "text": [
      "INFO:bokeh.core.state:Session output file 'newyears_deity_type.html' already exists, will be overwritten.\n"
     ]
    }
   ],
   "source": [
    "#create heat map\n",
    "\n",
    "hm = HeatMap(groupedob, x='object', y='action', values='number', title='Object and Action', stat=None, width=2000, height=2000, \n",
    "             palette=magma(16))\n",
    "                                                    \n",
    "output_file('newyears_deity_type.html')\n",
    "\n",
    "show(hm)"
   ]
  },
  {
   "cell_type": "code",
   "execution_count": null,
   "metadata": {
    "collapsed": true
   },
   "outputs": [],
   "source": []
  }
 ],
 "metadata": {
  "kernelspec": {
   "display_name": "Python 3",
   "language": "python",
   "name": "python3"
  },
  "language_info": {
   "codemirror_mode": {
    "name": "ipython",
    "version": 3
   },
   "file_extension": ".py",
   "mimetype": "text/x-python",
   "name": "python",
   "nbconvert_exporter": "python",
   "pygments_lexer": "ipython3",
   "version": "3.6.0"
  }
 },
 "nbformat": 4,
 "nbformat_minor": 2
}
