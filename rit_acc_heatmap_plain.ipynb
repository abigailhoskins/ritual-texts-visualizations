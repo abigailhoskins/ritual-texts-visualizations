{
 "cells": [
  {
   "cell_type": "code",
   "execution_count": 15,
   "metadata": {
    "collapsed": false,
    "scrolled": false
   },
   "outputs": [
    {
     "name": "stdout",
     "output_type": "stream",
     "text": [
      "Requirement already up-to-date: pip in /anaconda/lib/python3.6/site-packages (19.1.1)\r\n"
     ]
    }
   ],
   "source": [
    "#install package manager\n",
    "!pip install --upgrade pip"
   ]
  },
  {
   "cell_type": "code",
   "execution_count": 16,
   "metadata": {
    "collapsed": true
   },
   "outputs": [],
   "source": [
    "#install error work-around\n",
    "import sys\n",
    "sys.path.append(\"/anaconda/lib/python3.6/site-packages\")"
   ]
  },
  {
   "cell_type": "code",
   "execution_count": 17,
   "metadata": {
    "collapsed": false
   },
   "outputs": [
    {
     "name": "stdout",
     "output_type": "stream",
     "text": [
      "Updating Homebrew...\n",
      "\u001b[33mWarning:\u001b[0m graphviz 2.40.1 is already installed and up-to-date\n",
      "To reinstall 2.40.1, run `brew reinstall graphviz`\n",
      "//anaconda/lib/python3.6/site-packages/pip/_internal/commands/install.py:244: UserWarning: Disabling all use of wheels due to the use of --build-options / --global-options / --install-options.\n",
      "  cmdoptions.check_install_build_global(options)\n",
      "Requirement already satisfied: pygraphviz in /anaconda/lib/python3.6/site-packages (1.3.1)\n"
     ]
    }
   ],
   "source": [
    "#install graphviz\n",
    "!brew install graphviz\n",
    "!pip install pygraphviz --install-option=\"--include-path=/usr/local/include/graphviz/\" \\\n",
    "--install-option=\"--library-path=/usr/local/lib/graphviz\""
   ]
  },
  {
   "cell_type": "code",
   "execution_count": 18,
   "metadata": {
    "collapsed": false,
    "scrolled": true
   },
   "outputs": [],
   "source": [
    "#import data science library\n",
    "from datascience import *\n",
    "\n",
    "from IPython.display import Image\n",
    "from bokeh.charts import HeatMap, output_file, show\n",
    "from bokeh.palettes import *\n",
    "import pygraphviz as PG\n",
    "import numpy as np\n",
    "%matplotlib inline"
   ]
  },
  {
   "cell_type": "code",
   "execution_count": 19,
   "metadata": {
    "collapsed": false,
    "scrolled": true
   },
   "outputs": [
    {
     "data": {
      "text/html": [
       "<table border=\"1\" class=\"dataframe\">\n",
       "    <thead>\n",
       "        <tr>\n",
       "            <th>section</th> <th>object</th> <th>material</th> <th>decoration</th> <th>count</th> <th>number</th> <th>measure</th> <th>type of object</th> <th>position</th> <th>action</th> <th>occasion </th> <th>personnel</th> <th>deity</th> <th>time</th> <th>day</th> <th>month</th> <th>text</th> <th>additional</th>\n",
       "        </tr>\n",
       "    </thead>\n",
       "    <tbody>\n",
       "        <tr>\n",
       "            <td>1      </td> <td>offering table  </td> <td>nan     </td> <td>nan       </td> <td>1    </td> <td>3     </td> <td>nan    </td> <td>furniture     </td> <td>nan               </td> <td>arrange    </td> <td>nan      </td> <td>lamentation priest</td> <td>god of the temple; goddess of the temple; lamassu of the ...</td> <td>night  </td> <td>favorable day</td> <td>auspicious month</td> <td>TU 45</td> <td>nan       </td>\n",
       "        </tr>\n",
       "    </tbody>\n",
       "        <tr>\n",
       "            <td>1      </td> <td>brushwood pile  </td> <td>nan     </td> <td>nan       </td> <td>1    </td> <td>1     </td> <td>nan    </td> <td>fire          </td> <td>nan               </td> <td>set up     </td> <td>nan      </td> <td>lamentation priest</td> <td>Ea; Marduk                                                  </td> <td>night  </td> <td>favorable day</td> <td>auspicious month</td> <td>TU 45</td> <td>nan       </td>\n",
       "        </tr>\n",
       "    </tbody>\n",
       "        <tr>\n",
       "            <td>1      </td> <td>pure water      </td> <td>nan     </td> <td>nan       </td> <td>1    </td> <td>1     </td> <td>nan    </td> <td>water         </td> <td>roof of the temple</td> <td>sprinkle   </td> <td>nan      </td> <td>lamentation priest</td> <td>nan                                                         </td> <td>morning</td> <td>favorable day</td> <td>auspicious month</td> <td>TU 45</td> <td>nan       </td>\n",
       "        </tr>\n",
       "    </tbody>\n",
       "        <tr>\n",
       "            <td>1      </td> <td>offering table  </td> <td>nan     </td> <td>nan       </td> <td>1    </td> <td>3     </td> <td>nan    </td> <td>furniture     </td> <td>roof of the temple</td> <td>arrange    </td> <td>nan      </td> <td>lamentation priest</td> <td>Ea; Shamash; Marduk                                         </td> <td>morning</td> <td>favorable day</td> <td>auspicious month</td> <td>TU 45</td> <td>nan       </td>\n",
       "        </tr>\n",
       "    </tbody>\n",
       "        <tr>\n",
       "            <td>1      </td> <td>barley seed     </td> <td>nan     </td> <td>nan       </td> <td>1    </td> <td>5     </td> <td>nan    </td> <td>seed          </td> <td>roof of the temple</td> <td>scatter    </td> <td>nan      </td> <td>lamentation priest</td> <td>Ea; Shamash; Marduk                                         </td> <td>morning</td> <td>favorable day</td> <td>auspicious month</td> <td>TU 45</td> <td>nan       </td>\n",
       "        </tr>\n",
       "    </tbody>\n",
       "        <tr>\n",
       "            <td>1      </td> <td>juniper         </td> <td>nan     </td> <td>nan       </td> <td>1    </td> <td>1     </td> <td>nan    </td> <td>aromatic      </td> <td>roof of the temple</td> <td>fill censer</td> <td>nan      </td> <td>lamentation priest</td> <td>Ea; Shamash; Marduk                                         </td> <td>morning</td> <td>favorable day</td> <td>auspicious month</td> <td>TU 45</td> <td>nan       </td>\n",
       "        </tr>\n",
       "    </tbody>\n",
       "        <tr>\n",
       "            <td>1      </td> <td>censer          </td> <td>nan     </td> <td>nan       </td> <td>1    </td> <td>1     </td> <td>nan    </td> <td>censer        </td> <td>roof of the temple</td> <td>set up     </td> <td>nan      </td> <td>lamentation priest</td> <td>Ea; Shamash; Marduk                                         </td> <td>morning</td> <td>favorable day</td> <td>auspicious month</td> <td>TU 45</td> <td>nan       </td>\n",
       "        </tr>\n",
       "    </tbody>\n",
       "        <tr>\n",
       "            <td>1      </td> <td>holy water basin</td> <td>nan     </td> <td>nan       </td> <td>1    </td> <td>1     </td> <td>nan    </td> <td>vessel        </td> <td>roof of the temple</td> <td>set up     </td> <td>nan      </td> <td>lamentation priest</td> <td>nan                                                         </td> <td>morning</td> <td>favorable day</td> <td>auspicious month</td> <td>TU 45</td> <td>nan       </td>\n",
       "        </tr>\n",
       "    </tbody>\n",
       "        <tr>\n",
       "            <td>1      </td> <td>curtain         </td> <td>nan     </td> <td>nan       </td> <td>1    </td> <td>5     </td> <td>nan    </td> <td>furniture     </td> <td>roof of the temple</td> <td>draw shut  </td> <td>nan      </td> <td>lamentation priest</td> <td>nan                                                         </td> <td>morning</td> <td>favorable day</td> <td>auspicious month</td> <td>TU 45</td> <td>nan       </td>\n",
       "        </tr>\n",
       "    </tbody>\n",
       "        <tr>\n",
       "            <td>1      </td> <td>holy water basin</td> <td>nan     </td> <td>nan       </td> <td>1    </td> <td>1     </td> <td>nan    </td> <td>vessel        </td> <td>roof of the temple</td> <td>lift up    </td> <td>nan      </td> <td>lamentation priest</td> <td>nan                                                         </td> <td>morning</td> <td>favorable day</td> <td>auspicious month</td> <td>TU 45</td> <td>nan       </td>\n",
       "        </tr>\n",
       "    </tbody>\n",
       "</table>\n",
       "<p>... (75 rows omitted)</p"
      ],
      "text/plain": [
       "section | object           | material | decoration | count | number | measure | type of object | position           | action      | occasion  | personnel          | deity                                                        | time    | day           | month            | text  | additional\n",
       "1       | offering table   | nan      | nan        | 1     | 3      | nan     | furniture      | nan                | arrange     | nan       | lamentation priest | god of the temple; goddess of the temple; lamassu of the ... | night   | favorable day | auspicious month | TU 45 | nan\n",
       "1       | brushwood pile   | nan      | nan        | 1     | 1      | nan     | fire           | nan                | set up      | nan       | lamentation priest | Ea; Marduk                                                   | night   | favorable day | auspicious month | TU 45 | nan\n",
       "1       | pure water       | nan      | nan        | 1     | 1      | nan     | water          | roof of the temple | sprinkle    | nan       | lamentation priest | nan                                                          | morning | favorable day | auspicious month | TU 45 | nan\n",
       "1       | offering table   | nan      | nan        | 1     | 3      | nan     | furniture      | roof of the temple | arrange     | nan       | lamentation priest | Ea; Shamash; Marduk                                          | morning | favorable day | auspicious month | TU 45 | nan\n",
       "1       | barley seed      | nan      | nan        | 1     | 5      | nan     | seed           | roof of the temple | scatter     | nan       | lamentation priest | Ea; Shamash; Marduk                                          | morning | favorable day | auspicious month | TU 45 | nan\n",
       "1       | juniper          | nan      | nan        | 1     | 1      | nan     | aromatic       | roof of the temple | fill censer | nan       | lamentation priest | Ea; Shamash; Marduk                                          | morning | favorable day | auspicious month | TU 45 | nan\n",
       "1       | censer           | nan      | nan        | 1     | 1      | nan     | censer         | roof of the temple | set up      | nan       | lamentation priest | Ea; Shamash; Marduk                                          | morning | favorable day | auspicious month | TU 45 | nan\n",
       "1       | holy water basin | nan      | nan        | 1     | 1      | nan     | vessel         | roof of the temple | set up      | nan       | lamentation priest | nan                                                          | morning | favorable day | auspicious month | TU 45 | nan\n",
       "1       | curtain          | nan      | nan        | 1     | 5      | nan     | furniture      | roof of the temple | draw shut   | nan       | lamentation priest | nan                                                          | morning | favorable day | auspicious month | TU 45 | nan\n",
       "1       | holy water basin | nan      | nan        | 1     | 1      | nan     | vessel         | roof of the temple | lift up     | nan       | lamentation priest | nan                                                          | morning | favorable day | auspicious month | TU 45 | nan\n",
       "... (75 rows omitted)"
      ]
     },
     "execution_count": 19,
     "metadata": {},
     "output_type": "execute_result"
    }
   ],
   "source": [
    "#read in table\n",
    "ritacc = Table().read_table('ritaccBuilding.csv')\n",
    "#Replaces value \"plural, unspecified\" with a value of 5\n",
    "def replace_plural(table, value, column):\n",
    "    for i in range(len(table[column])):\n",
    "        if table[column][i] == 'plural, unspecified':\n",
    "            table[column][i] = value\n",
    "        else:\n",
    "            table[column][i] = int(table[column][i])\n",
    "    return table\n",
    "ritacc = replace_plural(ritacc, 5, 5)\n",
    "\n",
    "#converts 'number' column from a string to an integer\n",
    "ritacc.set_format('number', NumberFormatter)\n",
    "\n",
    "#removes rows where no god is specified\n",
    "#ritacc = ritacc.where('deity', are.not_containing('nan'))\n",
    "\n",
    "#print table\n",
    "ritacc"
   ]
  },
  {
   "cell_type": "code",
   "execution_count": 20,
   "metadata": {
    "collapsed": false
   },
   "outputs": [],
   "source": [
    "#create pivot table. \"Group\" is a function that returns a table with each row corresponding to a unique value.\n",
    "#lamda x: sum(x) takes the summed values of number x count.\n",
    "\n",
    "groupedob = ritacc.group(['object', 'time'], lambda x: np.log(sum(x)))\n",
    "\n",
    "#selects columns to be mapped\n",
    "groupedob = groupedob.select('object', 'time', 'number')\n",
    "\n",
    "groupedob.sort(\"number\")\n",
    "\n",
    "#makes groupedob a panda dataframe\n",
    "groupedob = groupedob.to_df()\n"
   ]
  },
  {
   "cell_type": "code",
   "execution_count": 24,
   "metadata": {
    "collapsed": false,
    "scrolled": true
   },
   "outputs": [
    {
     "name": "stderr",
     "output_type": "stream",
     "text": [
      "INFO:bokeh.core.state:Session output file 'ritacc_drum.html' already exists, will be overwritten.\n"
     ]
    }
   ],
   "source": [
    "#create heat map\n",
    "\n",
    "hm = HeatMap(groupedob, x='object', y='time', values='number', title='Object and Deity', stat=None, width=1000, height=600, \n",
    "             palette=inferno(8))\n",
    "                                                    \n",
    "output_file('ritacc_drum.html')\n",
    "\n",
    "show(hm)"
   ]
  },
  {
   "cell_type": "code",
   "execution_count": null,
   "metadata": {
    "collapsed": true
   },
   "outputs": [],
   "source": []
  }
 ],
 "metadata": {
  "kernelspec": {
   "display_name": "Python 3",
   "language": "python",
   "name": "python3"
  },
  "language_info": {
   "codemirror_mode": {
    "name": "ipython",
    "version": 3
   },
   "file_extension": ".py",
   "mimetype": "text/x-python",
   "name": "python",
   "nbconvert_exporter": "python",
   "pygments_lexer": "ipython3",
   "version": "3.6.0"
  }
 },
 "nbformat": 4,
 "nbformat_minor": 2
}
